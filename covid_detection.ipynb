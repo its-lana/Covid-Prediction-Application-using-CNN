{
  "nbformat": 4,
  "nbformat_minor": 0,
  "metadata": {
    "colab": {
      "name": "Lana DatasetBaru.ipynb",
      "provenance": [],
      "collapsed_sections": []
    },
    "kernelspec": {
      "name": "python3",
      "display_name": "Python 3"
    },
    "language_info": {
      "name": "python"
    },
    "accelerator": "TPU"
  },
  "cells": [
    {
      "cell_type": "code",
      "metadata": {
        "id": "TNSenr_FWRC5"
      },
      "source": [
        "#Import Library\n",
        "import tensorflow as tf\n",
        "from tensorflow.keras.optimizers import RMSprop\n",
        "from tensorflow.keras.preprocessing.image import ImageDataGenerator, load_img, img_to_array"
      ],
      "execution_count": null,
      "outputs": []
    },
    {
      "cell_type": "code",
      "metadata": {
        "colab": {
          "base_uri": "https://localhost:8080/"
        },
        "id": "khIV8HWCiQvc",
        "outputId": "6142b9b0-5c48-4372-837e-0988a06ba225"
      },
      "source": [
        "print(tf.__version__)"
      ],
      "execution_count": null,
      "outputs": [
        {
          "output_type": "stream",
          "text": [
            "2.5.0\n"
          ],
          "name": "stdout"
        }
      ]
    },
    {
      "cell_type": "code",
      "metadata": {
        "id": "yRngq2A6WW6T",
        "colab": {
          "base_uri": "https://localhost:8080/"
        },
        "outputId": "aefbf372-c342-431e-af77-4144d41c1da5"
      },
      "source": [
        "#Import data From Drive\n",
        "from google.colab import drive\n",
        "drive.mount('/content/drive')\n"
      ],
      "execution_count": null,
      "outputs": [
        {
          "output_type": "stream",
          "text": [
            "Mounted at /content/drive\n"
          ],
          "name": "stdout"
        }
      ]
    },
    {
      "cell_type": "code",
      "metadata": {
        "colab": {
          "base_uri": "https://localhost:8080/"
        },
        "id": "F4U9cQ-zWZ-8",
        "outputId": "d87bfba0-f9ec-4b89-b49f-c0dfe4b74e2d"
      },
      "source": [
        "# Unzip dataset\n",
        "!apt install unzip\n",
        "\n",
        "!unzip -q drive/Shareddrives/Dataset/dataset.zip"
      ],
      "execution_count": null,
      "outputs": [
        {
          "output_type": "stream",
          "text": [
            "Reading package lists... Done\n",
            "Building dependency tree       \n",
            "Reading state information... Done\n",
            "unzip is already the newest version (6.0-21ubuntu1.1).\n",
            "0 upgraded, 0 newly installed, 0 to remove and 40 not upgraded.\n"
          ],
          "name": "stdout"
        }
      ]
    },
    {
      "cell_type": "code",
      "metadata": {
        "id": "bTjlDGRvWhvm"
      },
      "source": [
        "# Preprocessing\n",
        "# Image Data Augmentation : memperluas dataset training untuk meningkatkan kinerja \n",
        "# dan kemampuan model untuk menggeneralisasi.\n",
        "train_datagen = ImageDataGenerator(\n",
        "                    rescale=1./255,\n",
        "                    rotation_range=20,\n",
        "                    horizontal_flip=True,\n",
        "                    shear_range = 0.2,\n",
        "                    fill_mode = 'nearest')\n",
        "\n",
        "test_datagen = ImageDataGenerator(\n",
        "                    rescale=1./255,\n",
        "                    rotation_range=20,\n",
        "                    horizontal_flip=True,\n",
        "                    shear_range = 0.2,\n",
        "                    fill_mode = 'nearest')"
      ],
      "execution_count": null,
      "outputs": []
    },
    {
      "cell_type": "code",
      "metadata": {
        "colab": {
          "base_uri": "https://localhost:8080/"
        },
        "id": "h7lED9rCWpdw",
        "outputId": "76168e92-c7ea-457d-889e-f1b83bbde7e8"
      },
      "source": [
        "train_generator = train_datagen.flow_from_directory(\n",
        "        '/content/dataset2/dataset/train',  # direktori data latih\n",
        "        target_size=(150, 150),  # mengubah resolusi seluruh gambar menjadi 150x150 piksel\n",
        "        batch_size=4,\n",
        "        # karena kita merupakan masalah klasifikasi 2 kelas maka menggunakan class_mode = 'binary'\n",
        "        class_mode='binary')\n",
        "\n",
        "validation_generator = test_datagen.flow_from_directory(\n",
        "        '/content/dataset2/dataset/validation', # direktori data validasi\n",
        "        target_size=(150, 150), # mengubah resolusi seluruh gambar menjadi 150x150 piksel\n",
        "        batch_size=4, # karena kita merupakan masalah klasifikasi 2 kelas maka menggunakan class_mode = 'binary'\n",
        "        class_mode='binary')"
      ],
      "execution_count": null,
      "outputs": [
        {
          "output_type": "stream",
          "text": [
            "Found 560 images belonging to 2 classes.\n",
            "Found 288 images belonging to 2 classes.\n"
          ],
          "name": "stdout"
        }
      ]
    },
    {
      "cell_type": "code",
      "metadata": {
        "id": "q_b92qjGWvKX"
      },
      "source": [
        "# Arsitektur \n",
        "model = tf.keras.models.Sequential([\n",
        "    tf.keras.layers.Conv2D(32, (3,3), activation='relu', input_shape=(150, 150, 3)),\n",
        "    tf.keras.layers.MaxPooling2D(2, 2),\n",
        "    tf.keras.layers.Conv2D(64, (3,3), activation='relu'),\n",
        "    tf.keras.layers.MaxPooling2D(2,2),\n",
        "    tf.keras.layers.Conv2D(128, (3,3), activation='relu'),\n",
        "    tf.keras.layers.MaxPooling2D(2,2),\n",
        "    tf.keras.layers.Conv2D(128, (3,3), activation='relu'),\n",
        "    tf.keras.layers.MaxPooling2D(2,2),\n",
        "    tf.keras.layers.Flatten(),\n",
        "    tf.keras.layers.Dense(512, activation='relu'),\n",
        "    tf.keras.layers.Dense(1, activation='sigmoid')\n",
        "])"
      ],
      "execution_count": null,
      "outputs": []
    },
    {
      "cell_type": "code",
      "metadata": {
        "id": "zxXLArfkWxSo"
      },
      "source": [
        "model.compile(loss='binary_crossentropy',\n",
        "              optimizer=tf.optimizers.Adam(),\n",
        "              metrics=['accuracy'])"
      ],
      "execution_count": null,
      "outputs": []
    },
    {
      "cell_type": "code",
      "metadata": {
        "colab": {
          "base_uri": "https://localhost:8080/"
        },
        "id": "7-sXKKFqW2sM",
        "outputId": "fe91961b-2818-4d94-b0f8-ea4d25e0403c"
      },
      "source": [
        "import time\n",
        "# Starting Time\n",
        "start = time.time()\n",
        "\n",
        "# Training model\n",
        "history = model.fit(\n",
        "            train_generator,\n",
        "            steps_per_epoch=25,  # berapa batch yang akan dieksekusi pada setiap epoch\n",
        "            epochs=20,\n",
        "            validation_data=validation_generator, # menampilkan akurasi pengujian data validasi\n",
        "            validation_steps=5,  # erapa batch yang akan dieksekusi pada setiap epoch\n",
        "            verbose=2)\n",
        "\n",
        "#Calculate training time\n",
        "\n",
        "end = time.time()\n",
        "dur = end-start\n",
        "\n",
        "if dur>60 and dur<3600:\n",
        "    dur=dur/60\n",
        "    print(\"\\nExecution Time: %.4f\" % dur,\" minutes\")\n",
        "else:\n",
        "    dur=dur/(60*60)\n",
        "    print(\"Execution Time: %.4f\" % dur,\"hours\")"
      ],
      "execution_count": null,
      "outputs": [
        {
          "output_type": "stream",
          "text": [
            "Epoch 1/20\n",
            "25/25 - 11s - loss: 0.6932 - accuracy: 0.6400 - val_loss: 0.7632 - val_accuracy: 0.3000\n",
            "Epoch 2/20\n",
            "25/25 - 11s - loss: 0.6641 - accuracy: 0.5600 - val_loss: 0.5678 - val_accuracy: 0.7000\n",
            "Epoch 3/20\n",
            "25/25 - 10s - loss: 0.4106 - accuracy: 0.8400 - val_loss: 0.3195 - val_accuracy: 0.9000\n",
            "Epoch 4/20\n",
            "25/25 - 10s - loss: 0.2831 - accuracy: 0.9100 - val_loss: 0.1449 - val_accuracy: 0.9500\n",
            "Epoch 5/20\n",
            "25/25 - 11s - loss: 0.1728 - accuracy: 0.9300 - val_loss: 0.4593 - val_accuracy: 0.7500\n",
            "Epoch 6/20\n",
            "25/25 - 11s - loss: 0.0431 - accuracy: 1.0000 - val_loss: 0.0769 - val_accuracy: 0.9500\n",
            "Epoch 7/20\n",
            "25/25 - 11s - loss: 0.2355 - accuracy: 0.9300 - val_loss: 0.1709 - val_accuracy: 0.9500\n",
            "Epoch 8/20\n",
            "25/25 - 10s - loss: 0.2763 - accuracy: 0.8900 - val_loss: 0.1432 - val_accuracy: 1.0000\n",
            "Epoch 9/20\n",
            "25/25 - 11s - loss: 0.1589 - accuracy: 0.9400 - val_loss: 0.0535 - val_accuracy: 1.0000\n",
            "Epoch 10/20\n",
            "25/25 - 11s - loss: 0.2166 - accuracy: 0.9200 - val_loss: 0.0434 - val_accuracy: 1.0000\n",
            "Epoch 11/20\n",
            "25/25 - 11s - loss: 0.1142 - accuracy: 0.9700 - val_loss: 0.3615 - val_accuracy: 0.9000\n",
            "Epoch 12/20\n",
            "25/25 - 11s - loss: 0.2465 - accuracy: 0.9000 - val_loss: 0.0182 - val_accuracy: 1.0000\n",
            "Epoch 13/20\n",
            "25/25 - 11s - loss: 0.1398 - accuracy: 0.9600 - val_loss: 0.0181 - val_accuracy: 1.0000\n",
            "Epoch 14/20\n",
            "25/25 - 11s - loss: 0.0882 - accuracy: 0.9600 - val_loss: 0.1166 - val_accuracy: 0.9500\n",
            "Epoch 15/20\n",
            "25/25 - 11s - loss: 0.1537 - accuracy: 0.9400 - val_loss: 0.0540 - val_accuracy: 1.0000\n",
            "Epoch 16/20\n",
            "25/25 - 10s - loss: 0.1416 - accuracy: 0.9500 - val_loss: 0.1660 - val_accuracy: 0.9500\n",
            "Epoch 17/20\n",
            "25/25 - 10s - loss: 0.1228 - accuracy: 0.9500 - val_loss: 0.0832 - val_accuracy: 0.9500\n",
            "Epoch 18/20\n",
            "25/25 - 12s - loss: 0.0768 - accuracy: 0.9700 - val_loss: 0.0454 - val_accuracy: 1.0000\n",
            "Epoch 19/20\n",
            "25/25 - 10s - loss: 0.1154 - accuracy: 0.9600 - val_loss: 0.2278 - val_accuracy: 0.9000\n",
            "Epoch 20/20\n",
            "25/25 - 10s - loss: 0.0850 - accuracy: 0.9700 - val_loss: 0.0448 - val_accuracy: 1.0000\n",
            "\n",
            "Execution Time: 4.8703  minutes\n"
          ],
          "name": "stdout"
        }
      ]
    },
    {
      "cell_type": "code",
      "metadata": {
        "colab": {
          "base_uri": "https://localhost:8080/",
          "height": 265
        },
        "id": "vUs3d2PnXRdy",
        "outputId": "dc82547d-05c6-4eaf-830b-4346e6fa6894"
      },
      "source": [
        "# Visualization of accuracy model\n",
        "\n",
        "from matplotlib import pyplot as plt\n",
        "\n",
        "plt.plot(history.history['accuracy'], label='accuracy')\n",
        "plt.plot(history.history['val_accuracy'], label='val_accuracy')\n",
        "plt.legend(loc=\"upper left\")\n",
        "plt.show()"
      ],
      "execution_count": null,
      "outputs": [
        {
          "output_type": "display_data",
          "data": {
            "image/png": "[encoded data removed]",
            "text/plain": [
              "<Figure size 432x288 with 1 Axes>"
            ]
          },
          "metadata": {
            "tags": [],
            "needs_background": "light"
          }
        }
      ]
    },
    {
      "cell_type": "code",
      "metadata": {
        "colab": {
          "base_uri": "https://localhost:8080/",
          "height": 269
        },
        "id": "-guBAj95XtKb",
        "outputId": "2e8ff07d-1525-4c9a-e42c-4c635881329e"
      },
      "source": [
        "# Visualization of loss model\n",
        "\n",
        "plt.plot(history.history['loss'], label='loss')\n",
        "plt.plot(history.history['val_loss'], label='val_loss')\n",
        "plt.legend(loc=\"upper left\")\n",
        "plt.show()"
      ],
      "execution_count": null,
      "outputs": [
        {
          "output_type": "display_data",
          "data": {
            "image/png": "[encoded data removed]",
            "text/plain": [
              "<Figure size 432x288 with 1 Axes>"
            ]
          },
          "metadata": {
            "tags": [],
            "needs_background": "light"
          }
        }
      ]
    },
    {
      "cell_type": "code",
      "metadata": {
        "id": "5bETh2BvXzR0"
      },
      "source": [
        "# Import library\n",
        "\n",
        "from google.colab import files\n",
        "from tensorflow.keras.preprocessing import image\n",
        "import matplotlib.image as mpimg\n",
        "import numpy as np\n",
        "%matplotlib inline\n"
      ],
      "execution_count": null,
      "outputs": []
    },
    {
      "cell_type": "code",
      "metadata": {
        "id": "FfzEfktOYlnB"
      },
      "source": [
        "# Predict function\n",
        "def predict(file):\n",
        "  path = file\n",
        "  img = image.load_img(path, target_size=(150,150))\n",
        "  # imgplot = plt.imshow(img)\n",
        "  x = image.img_to_array(img)\n",
        "  x = np.expand_dims(x, axis=0)\n",
        "\n",
        "  images = np.vstack([x])\n",
        "  classes = model.predict(images, batch_size=10)\n",
        "  \n",
        "  result = ''\n",
        "  print(path)\n",
        "  # print(classes)\n",
        "  if classes==0:\n",
        "    result = 'covid'\n",
        "  elif classes==1:\n",
        "    result = 'normal'\n",
        "  else :\n",
        "    result = 'bukan keduanya!'\n",
        "  \n",
        "  return result"
      ],
      "execution_count": null,
      "outputs": []
    },
    {
      "cell_type": "code",
      "metadata": {
        "colab": {
          "base_uri": "https://localhost:8080/"
        },
        "id": "2v6tcoN6ZZXE",
        "outputId": "fda7b10b-5c76-4e61-9150-77a9cc046135"
      },
      "source": [
        "# Testing model untuk folder yang berisi data covid\n",
        "urutan = 0\n",
        "jumlah_covid = 0\n",
        "jumlah_normal = 0\n",
        "jumlah_bukan_keduanya = 0\n",
        "# predicting images\n",
        "# print(train_generator.class_indices)\n",
        "for _i in range(40):\n",
        "  path = '/content/dataset2/dataset/test/covid/'+str(urutan)+'.jpg'\n",
        "  hasil = predict(path)\n",
        "  print(hasil)\n",
        "  if hasil == 'covid' :\n",
        "    jumlah_covid += 1\n",
        "  elif hasil == 'normal' :\n",
        "    jumlah_normal += 1\n",
        "  else :\n",
        "    jumlah_bukan_keduanya += 1\n",
        "  urutan += 1\n",
        "\n",
        "print('Jumlah Hasil Prediksi Covid : ', jumlah_covid)\n",
        "print('Jumlah Hasil Prediksi Normal : ', jumlah_normal)\n",
        "print('Jumlah Hasil Prediksi Bukan Keduanya : ', jumlah_bukan_keduanya)"
      ],
      "execution_count": null,
      "outputs": [
        {
          "output_type": "stream",
          "text": [
            "/content/dataset2/dataset/test/covid/0.jpg\n",
            "covid\n",
            "/content/dataset2/dataset/test/covid/1.jpg\n",
            "covid\n",
            "/content/dataset2/dataset/test/covid/2.jpg\n",
            "covid\n",
            "/content/dataset2/dataset/test/covid/3.jpg\n",
            "covid\n",
            "/content/dataset2/dataset/test/covid/4.jpg\n",
            "covid\n",
            "/content/dataset2/dataset/test/covid/5.jpg\n",
            "covid\n",
            "/content/dataset2/dataset/test/covid/6.jpg\n",
            "covid\n",
            "/content/dataset2/dataset/test/covid/7.jpg\n",
            "covid\n",
            "/content/dataset2/dataset/test/covid/8.jpg\n",
            "covid\n",
            "/content/dataset2/dataset/test/covid/9.jpg\n",
            "covid\n",
            "/content/dataset2/dataset/test/covid/10.jpg\n",
            "covid\n",
            "/content/dataset2/dataset/test/covid/11.jpg\n",
            "covid\n",
            "/content/dataset2/dataset/test/covid/12.jpg\n",
            "covid\n",
            "/content/dataset2/dataset/test/covid/13.jpg\n",
            "covid\n",
            "/content/dataset2/dataset/test/covid/14.jpg\n",
            "covid\n",
            "/content/dataset2/dataset/test/covid/15.jpg\n",
            "covid\n",
            "/content/dataset2/dataset/test/covid/16.jpg\n",
            "covid\n",
            "/content/dataset2/dataset/test/covid/17.jpg\n",
            "covid\n",
            "/content/dataset2/dataset/test/covid/18.jpg\n",
            "covid\n",
            "/content/dataset2/dataset/test/covid/19.jpg\n",
            "covid\n",
            "/content/dataset2/dataset/test/covid/20.jpg\n",
            "covid\n",
            "/content/dataset2/dataset/test/covid/21.jpg\n",
            "covid\n",
            "/content/dataset2/dataset/test/covid/22.jpg\n",
            "covid\n",
            "/content/dataset2/dataset/test/covid/23.jpg\n",
            "covid\n",
            "/content/dataset2/dataset/test/covid/24.jpg\n",
            "covid\n",
            "/content/dataset2/dataset/test/covid/25.jpg\n",
            "covid\n",
            "/content/dataset2/dataset/test/covid/26.jpg\n",
            "covid\n",
            "/content/dataset2/dataset/test/covid/27.jpg\n",
            "covid\n",
            "/content/dataset2/dataset/test/covid/28.jpg\n",
            "covid\n",
            "/content/dataset2/dataset/test/covid/29.jpg\n",
            "covid\n",
            "/content/dataset2/dataset/test/covid/30.jpg\n",
            "covid\n",
            "/content/dataset2/dataset/test/covid/31.jpg\n",
            "covid\n",
            "/content/dataset2/dataset/test/covid/32.jpg\n",
            "covid\n",
            "/content/dataset2/dataset/test/covid/33.jpg\n",
            "covid\n",
            "/content/dataset2/dataset/test/covid/34.jpg\n",
            "covid\n",
            "/content/dataset2/dataset/test/covid/35.jpg\n",
            "covid\n",
            "/content/dataset2/dataset/test/covid/36.jpg\n",
            "covid\n",
            "/content/dataset2/dataset/test/covid/37.jpg\n",
            "covid\n",
            "/content/dataset2/dataset/test/covid/38.jpg\n",
            "covid\n",
            "/content/dataset2/dataset/test/covid/39.jpg\n",
            "covid\n",
            "Jumlah Hasil Prediksi Covid :  40\n",
            "Jumlah Hasil Prediksi Normal :  0\n",
            "Jumlah Hasil Prediksi Bukan Keduanya :  0\n"
          ],
          "name": "stdout"
        }
      ]
    },
    {
      "cell_type": "code",
      "metadata": {
        "colab": {
          "base_uri": "https://localhost:8080/"
        },
        "id": "xZQh9rfmRwzn",
        "outputId": "3204d26c-c83b-48a8-f0c9-3e5440feb9c8"
      },
      "source": [
        "# Testing model untuk folder yang berisi data X-ray Normal\n",
        "urutan = 0\n",
        "jumlah_covid = 0\n",
        "jumlah_normal = 0\n",
        "jumlah_bukan_keduanya = 0\n",
        "# predicting images\n",
        "# print(train_generator.class_indices)\n",
        "for _i in range(40):\n",
        "  path = '/content/dataset2/dataset/test/normal/'+str(urutan)+'.jpg'\n",
        "  hasil = predict(path)\n",
        "  print(hasil)\n",
        "  if hasil == 'covid' :\n",
        "    jumlah_covid += 1\n",
        "  elif hasil == 'normal' :\n",
        "    jumlah_normal += 1\n",
        "  else :\n",
        "    jumlah_bukan_keduanya += 1\n",
        "  urutan += 1\n",
        "\n",
        "print('Jumlah Hasil Prediksi Covid : ', jumlah_covid)\n",
        "print('Jumlah Hasil Prediksi Normal : ', jumlah_normal)\n",
        "print('Jumlah Hasil Prediksi Bukan Keduanya : ', jumlah_bukan_keduanya)"
      ],
      "execution_count": null,
      "outputs": [
        {
          "output_type": "stream",
          "text": [
            "/content/dataset2/dataset/test/normal/0.jpg\n",
            "normal\n",
            "/content/dataset2/dataset/test/normal/1.jpg\n",
            "normal\n",
            "/content/dataset2/dataset/test/normal/2.jpg\n",
            "normal\n",
            "/content/dataset2/dataset/test/normal/3.jpg\n",
            "normal\n",
            "/content/dataset2/dataset/test/normal/4.jpg\n",
            "normal\n",
            "/content/dataset2/dataset/test/normal/5.jpg\n",
            "normal\n",
            "/content/dataset2/dataset/test/normal/6.jpg\n",
            "normal\n",
            "/content/dataset2/dataset/test/normal/7.jpg\n",
            "normal\n",
            "/content/dataset2/dataset/test/normal/8.jpg\n",
            "normal\n",
            "/content/dataset2/dataset/test/normal/9.jpg\n",
            "normal\n",
            "/content/dataset2/dataset/test/normal/10.jpg\n",
            "normal\n",
            "/content/dataset2/dataset/test/normal/11.jpg\n",
            "normal\n",
            "/content/dataset2/dataset/test/normal/12.jpg\n",
            "normal\n",
            "/content/dataset2/dataset/test/normal/13.jpg\n",
            "normal\n",
            "/content/dataset2/dataset/test/normal/14.jpg\n",
            "normal\n",
            "/content/dataset2/dataset/test/normal/15.jpg\n",
            "covid\n",
            "/content/dataset2/dataset/test/normal/16.jpg\n",
            "normal\n",
            "/content/dataset2/dataset/test/normal/17.jpg\n",
            "normal\n",
            "/content/dataset2/dataset/test/normal/18.jpg\n",
            "normal\n",
            "/content/dataset2/dataset/test/normal/19.jpg\n",
            "normal\n",
            "/content/dataset2/dataset/test/normal/20.jpg\n",
            "normal\n",
            "/content/dataset2/dataset/test/normal/21.jpg\n",
            "normal\n",
            "/content/dataset2/dataset/test/normal/22.jpg\n",
            "normal\n",
            "/content/dataset2/dataset/test/normal/23.jpg\n",
            "covid\n",
            "/content/dataset2/dataset/test/normal/24.jpg\n",
            "normal\n",
            "/content/dataset2/dataset/test/normal/25.jpg\n",
            "normal\n",
            "/content/dataset2/dataset/test/normal/26.jpg\n",
            "normal\n",
            "/content/dataset2/dataset/test/normal/27.jpg\n",
            "normal\n",
            "/content/dataset2/dataset/test/normal/28.jpg\n",
            "normal\n",
            "/content/dataset2/dataset/test/normal/29.jpg\n",
            "normal\n",
            "/content/dataset2/dataset/test/normal/30.jpg\n",
            "normal\n",
            "/content/dataset2/dataset/test/normal/31.jpg\n",
            "normal\n",
            "/content/dataset2/dataset/test/normal/32.jpg\n",
            "normal\n",
            "/content/dataset2/dataset/test/normal/33.jpg\n",
            "normal\n",
            "/content/dataset2/dataset/test/normal/34.jpg\n",
            "normal\n",
            "/content/dataset2/dataset/test/normal/35.jpg\n",
            "normal\n",
            "/content/dataset2/dataset/test/normal/36.jpg\n",
            "normal\n",
            "/content/dataset2/dataset/test/normal/37.jpg\n",
            "normal\n",
            "/content/dataset2/dataset/test/normal/38.jpg\n",
            "normal\n",
            "/content/dataset2/dataset/test/normal/39.jpg\n",
            "normal\n",
            "Jumlah Hasil Prediksi Covid :  2\n",
            "Jumlah Hasil Prediksi Normal :  38\n",
            "Jumlah Hasil Prediksi Bukan Keduanya :  0\n"
          ],
          "name": "stdout"
        }
      ]
    },
    {
      "cell_type": "code",
      "metadata": {
        "id": "6JmbPikCXS7b"
      },
      "source": [
        "# Saving model\n",
        "import os, sys\n",
        "\n",
        "target_dir = '/content/drive/Shareddrives/Dataset/output/Lana1/model'\n",
        "if not os.path.exists(target_dir):\n",
        "  os.mkdir(target_dir)\n",
        "model.save('/content/drive/Shareddrives/Dataset/output/Lana1/model/model.h5')\n",
        "model.save_weights('/content/drive/Shareddrives/Dataset/output/Lana1/model/weights.h5')"
      ],
      "execution_count": null,
      "outputs": []
    }
  ]
}